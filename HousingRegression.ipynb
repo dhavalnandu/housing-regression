{
  "nbformat": 4,
  "nbformat_minor": 0,
  "metadata": {
    "colab": {
      "name": "HousingRegression.ipynb",
      "provenance": [],
      "authorship_tag": "ABX9TyOJ1LDl3mRtsiNrzn6RcSjm"
    },
    "kernelspec": {
      "name": "python3",
      "display_name": "Python 3"
    },
    "language_info": {
      "name": "python"
    }
  },
  "cells": [
    {
      "cell_type": "code",
      "metadata": {
        "id": "7AZf36-hYZe4"
      },
      "source": [
        "import pandas as pd, numpy as np\n",
        "import seaborn as sns, matplotlib.pyplot as plt"
      ],
      "execution_count": 1,
      "outputs": []
    },
    {
      "cell_type": "code",
      "metadata": {
        "id": "v_3yegsRa8Tj"
      },
      "source": [
        ""
      ],
      "execution_count": null,
      "outputs": []
    }
  ]
}